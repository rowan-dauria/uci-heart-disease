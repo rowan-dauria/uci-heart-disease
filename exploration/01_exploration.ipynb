{
 "cells": [
  {
   "cell_type": "markdown",
   "metadata": {},
   "source": [
    "Using this file to understand the data"
   ]
  },
  {
   "cell_type": "code",
   "execution_count": null,
   "metadata": {},
   "outputs": [],
   "source": [
    "import pandas as pd\n",
    "\n",
    "import matplotlib.pyplot as plt"
   ]
  },
  {
   "cell_type": "code",
   "execution_count": null,
   "metadata": {},
   "outputs": [],
   "source": [
    "df = pd.read_csv('../data/raw/heart.csv')\n",
    "df.head(10)"
   ]
  },
  {
   "cell_type": "code",
   "execution_count": null,
   "metadata": {},
   "outputs": [],
   "source": [
    "df.describe()"
   ]
  },
  {
   "cell_type": "markdown",
   "metadata": {},
   "source": [
    "We can see from the below analysis that columns sex, fbs, exang and target are binary"
   ]
  },
  {
   "cell_type": "code",
   "execution_count": null,
   "metadata": {},
   "outputs": [],
   "source": [
    "less_ten_distinct_vals = []\n",
    "ten_or_more_distinct_vals = []\n",
    "\n",
    "for col in df.columns:\n",
    "    vals_series = df[col].value_counts()\n",
    "    distinct_vals_count = vals_series.size\n",
    "\n",
    "    if distinct_vals_count < 10:\n",
    "        print(col, distinct_vals_count)\n",
    "        less_ten_distinct_vals.append(col)\n",
    "    else:\n",
    "        ten_or_more_distinct_vals.append(col)\n",
    "\n",
    "print(f'less than 10 distict vals in columns: {less_ten_distinct_vals}')\n",
    "print(f'10 or more distict vals in columns: {ten_or_more_distinct_vals}')\n",
    "\n"
   ]
  },
  {
   "cell_type": "markdown",
   "metadata": {},
   "source": [
    "No null data!"
   ]
  },
  {
   "cell_type": "code",
   "execution_count": null,
   "metadata": {},
   "outputs": [],
   "source": [
    "df.isnull().sum()"
   ]
  },
  {
   "cell_type": "code",
   "execution_count": null,
   "metadata": {},
   "outputs": [],
   "source": []
  },
  {
   "cell_type": "markdown",
   "metadata": {},
   "source": [
    "From reading the Kaggle details on the dataset: \n",
    "- sex = binary, \n",
    "- cp (chest pain type) = categorical, <--- one hot\n",
    "- fbs (fasting blood sugar > 120mg/dl) = binary (however it is an ordinal relationship so can be left alone), \n",
    "- restecg (resting ECG results) = categorical, <--- one hot\n",
    "- exang (exercise-induced angina) = binary\n",
    "- thal (0 = normal; 1 = fixed defect; 2 = reversable defect) = categorical <--- one hot\n",
    "\n"
   ]
  },
  {
   "cell_type": "code",
   "execution_count": null,
   "metadata": {},
   "outputs": [],
   "source": [
    "df_encoded = pd.get_dummies(df, columns=['cp', 'restecg', 'thal'])\n",
    "df_encoded.head()"
   ]
  },
  {
   "cell_type": "code",
   "execution_count": null,
   "metadata": {},
   "outputs": [],
   "source": []
  }
 ],
 "metadata": {
  "kernelspec": {
   "display_name": "venv",
   "language": "python",
   "name": "python3"
  },
  "language_info": {
   "codemirror_mode": {
    "name": "ipython",
    "version": 3
   },
   "file_extension": ".py",
   "mimetype": "text/x-python",
   "name": "python",
   "nbconvert_exporter": "python",
   "pygments_lexer": "ipython3",
   "version": "3.13.2"
  }
 },
 "nbformat": 4,
 "nbformat_minor": 2
}
