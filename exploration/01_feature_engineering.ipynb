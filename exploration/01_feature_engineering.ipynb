{
 "cells": [
  {
   "cell_type": "code",
   "execution_count": null,
   "metadata": {},
   "outputs": [],
   "source": [
    "import pandas as pd\n",
    "import numpy as np\n",
    "from statsmodels.stats.outliers_influence import variance_inflation_factor\n"
   ]
  },
  {
   "cell_type": "code",
   "execution_count": null,
   "metadata": {},
   "outputs": [],
   "source": [
    "df = pd.read_csv('../data/raw/heart.csv')\n",
    "df.head()"
   ]
  },
  {
   "cell_type": "markdown",
   "metadata": {},
   "source": [
    "From reading the Kaggle details on the dataset: \n",
    "- sex = binary, \n",
    "- cp (chest pain type) = categorical, <--- one hot\n",
    "- fbs (fasting blood sugar > 120mg/dl) = binary, \n",
    "- restecg (resting ECG results) = categorical, <--- one hot\n",
    "- exang (exercise-induced angina) = binary\n",
    "- thal (0 = normal; 1 = fixed defect; 2 = reversable defect) = categorical <--- one hot\n",
    "\n"
   ]
  },
  {
   "cell_type": "code",
   "execution_count": null,
   "metadata": {},
   "outputs": [],
   "source": [
    "# one-hot encode the appropriate columns, converting the dummies from bools to ints\n",
    "one_hot_cols = ['cp', 'restecg', 'thal']\n",
    "df_encoded = pd.get_dummies(df.copy(), columns=one_hot_cols, dtype=int)\n",
    "df_encoded.head()"
   ]
  },
  {
   "cell_type": "code",
   "execution_count": null,
   "metadata": {},
   "outputs": [],
   "source": [
    "def normalise(col: pd.Series) -> pd.Series:\n",
    "    return (col - col.mean())/col.std()\n",
    "\n",
    "df_encoded_normalised = df_encoded.copy()\n",
    "\n",
    "# find all columns where the data is not binary and normalise it\n",
    "for col in df_encoded_normalised.columns:\n",
    "    # if binary column, don't normalise\n",
    "    # this will avoid columns that have been one-hot encoded or were already binary\n",
    "    if np.isin(df_encoded_normalised[col].dropna().unique(), [0, 1]).all():\n",
    "        continue\n",
    "    else:\n",
    "        df_encoded_normalised[col] = normalise(df_encoded_normalised[col])\n",
    "\n",
    "df_encoded_normalised.info()\n"
   ]
  },
  {
   "cell_type": "code",
   "execution_count": null,
   "metadata": {},
   "outputs": [],
   "source": [
    "df_encoded_normalised.to_csv('../data/preprocessed/heart_preprocessed.csv')"
   ]
  },
  {
   "cell_type": "markdown",
   "metadata": {},
   "source": [
    "### VIF Analysis\n",
    "After performing a basic linear regression, I found the model a poor fit to the data ($R^2=0.42$). So I am performing further analysis to understand what I can do to improve the performance, starting with VIF analysis."
   ]
  },
  {
   "cell_type": "code",
   "execution_count": null,
   "metadata": {},
   "outputs": [],
   "source": [
    "type DF = pd.DataFrame\n",
    "# Function to check VIF\n",
    "def checking_vif(inputDataFrame: DF) -> DF:\n",
    "    vif = pd.DataFrame()\n",
    "    vif[\"feature\"] = inputDataFrame.columns\n",
    "\n",
    "    # Calculating VIF for each feature\n",
    "    vif[\"VIF\"] = [\n",
    "        variance_inflation_factor(inputDataFrame.values, i) for i in range(len(inputDataFrame.columns))\n",
    "    ]\n",
    "    return vif"
   ]
  },
  {
   "cell_type": "code",
   "execution_count": null,
   "metadata": {},
   "outputs": [],
   "source": [
    "# To avoid multicollinearity in one-hot encoded data, drop the first column of each one-hot encoded category\n",
    "df_cols_dropped_for_vif = df_encoded_normalised.drop(columns=[\n",
    "    c + '_0' for c in one_hot_cols\n",
    "])\n",
    "df_cols_dropped_for_vif.info()"
   ]
  },
  {
   "cell_type": "code",
   "execution_count": null,
   "metadata": {},
   "outputs": [],
   "source": [
    "# VIF Analysis\n",
    "checking_vif(df_cols_dropped_for_vif)"
   ]
  },
  {
   "cell_type": "code",
   "execution_count": null,
   "metadata": {},
   "outputs": [],
   "source": [
    "print(\n",
    "    df_cols_dropped_for_vif[['thal_2', 'thal_3']].corr()\n",
    ")"
   ]
  },
  {
   "cell_type": "markdown",
   "metadata": {},
   "source": [
    "Observations: There is fairly strong anticorrelation between thal_2 and thal_3 columns."
   ]
  },
  {
   "cell_type": "code",
   "execution_count": null,
   "metadata": {},
   "outputs": [],
   "source": []
  }
 ],
 "metadata": {
  "kernelspec": {
   "display_name": "venv",
   "language": "python",
   "name": "python3"
  },
  "language_info": {
   "codemirror_mode": {
    "name": "ipython",
    "version": 3
   },
   "file_extension": ".py",
   "mimetype": "text/x-python",
   "name": "python",
   "nbconvert_exporter": "python",
   "pygments_lexer": "ipython3",
   "version": "3.13.2"
  }
 },
 "nbformat": 4,
 "nbformat_minor": 2
}
