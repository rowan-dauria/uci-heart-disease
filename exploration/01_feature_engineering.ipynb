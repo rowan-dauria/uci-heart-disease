{
 "cells": [
  {
   "cell_type": "code",
   "execution_count": null,
   "metadata": {},
   "outputs": [],
   "source": [
    "import pandas as pd\n",
    "import numpy as np"
   ]
  },
  {
   "cell_type": "code",
   "execution_count": null,
   "metadata": {},
   "outputs": [],
   "source": [
    "df = pd.read_csv('../data/raw/heart.csv')"
   ]
  },
  {
   "cell_type": "markdown",
   "metadata": {},
   "source": [
    "From reading the Kaggle details on the dataset: \n",
    "- sex = binary, \n",
    "- cp (chest pain type) = categorical, <--- one hot\n",
    "- fbs (fasting blood sugar > 120mg/dl) = binary, \n",
    "- restecg (resting ECG results) = categorical, <--- one hot\n",
    "- exang (exercise-induced angina) = binary\n",
    "- thal (0 = normal; 1 = fixed defect; 2 = reversable defect) = categorical <--- one hot\n",
    "\n"
   ]
  },
  {
   "cell_type": "code",
   "execution_count": null,
   "metadata": {},
   "outputs": [],
   "source": [
    "# one-hot encode the appropriate columns, converting the dummies from bools to ints\n",
    "df_encoded = pd.get_dummies(df.copy(), columns=['cp', 'restecg', 'thal'], dtype=int)\n",
    "df_encoded.head()"
   ]
  },
  {
   "cell_type": "code",
   "execution_count": null,
   "metadata": {},
   "outputs": [],
   "source": [
    "def normalise(col: pd.Series) -> pd.Series:\n",
    "    return (col - col.mean())/col.std()\n",
    "\n",
    "df_encoded_normalised = df_encoded.copy()\n",
    "\n",
    "# find all columns where the data is not binary and normalise it\n",
    "for col in df_encoded_normalised.columns:\n",
    "    # if binary column, don't normalise\n",
    "    if np.isin(df_encoded_normalised[col].dropna().unique(), [0, 1]).all():\n",
    "        continue\n",
    "    else:\n",
    "        df_encoded_normalised[col] = normalise(df_encoded_normalised[col])\n",
    "\n",
    "df_encoded_normalised.describe()\n"
   ]
  },
  {
   "cell_type": "code",
   "execution_count": null,
   "metadata": {},
   "outputs": [],
   "source": []
  }
 ],
 "metadata": {
  "kernelspec": {
   "display_name": "venv",
   "language": "python",
   "name": "python3"
  },
  "language_info": {
   "codemirror_mode": {
    "name": "ipython",
    "version": 3
   },
   "file_extension": ".py",
   "mimetype": "text/x-python",
   "name": "python",
   "nbconvert_exporter": "python",
   "pygments_lexer": "ipython3",
   "version": "3.13.2"
  }
 },
 "nbformat": 4,
 "nbformat_minor": 2
}
